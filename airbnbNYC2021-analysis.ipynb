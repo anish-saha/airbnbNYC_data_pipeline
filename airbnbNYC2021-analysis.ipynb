{
 "cells": [
  {
   "cell_type": "markdown",
   "metadata": {
    "id": "265O4tCFERFq"
   },
   "source": [
    "# DATA CLEANING FINAL PROJECT \n",
    "CS513 - Summer 2021 <br>\n",
    "Anish Saha, Sharanya Balaji, Hung Nguyen"
   ]
  },
  {
   "cell_type": "markdown",
   "metadata": {
    "id": "eNWHMUJHEhyo"
   },
   "source": [
    "## PART I. Installing Dependencies, Retrieving the Dataset\n",
    "Here we install the necessary dependencies and retrieve the original dataset **D** as a .csv file from a personal github repository. The NYC dataset was downloaded from: http://insideairbnb.com/get-the-data.html "
   ]
  },
  {
   "cell_type": "code",
   "execution_count": 1,
   "metadata": {
    "colab": {
     "base_uri": "https://localhost:8080/"
    },
    "executionInfo": {
     "elapsed": 2622,
     "status": "ok",
     "timestamp": 1627678302174,
     "user": {
      "displayName": "Anish Saha",
      "photoUrl": "https://lh3.googleusercontent.com/a-/AOh14GgO-4Lh6fOW1Vb_q2Qe-3O9nUOuU2OINyHo7Hq4OQ=s64",
      "userId": "07643731058417560024"
     },
     "user_tz": 420
    },
    "id": "wkoyZKIfeR1A",
    "outputId": "dea127c1-3f04-481a-c75e-656ea8979dab"
   },
   "outputs": [
    {
     "name": "stdout",
     "output_type": "stream",
     "text": [
      "Requirement already satisfied: pyflowchart in /Library/Frameworks/Python.framework/Versions/3.8/lib/python3.8/site-packages (0.1.4)\n",
      "Requirement already satisfied: astunparse in /Library/Frameworks/Python.framework/Versions/3.8/lib/python3.8/site-packages (from pyflowchart) (1.6.3)\n",
      "Requirement already satisfied: chardet in /Library/Frameworks/Python.framework/Versions/3.8/lib/python3.8/site-packages (from pyflowchart) (3.0.4)\n",
      "Requirement already satisfied: six<2.0,>=1.6.1 in /Library/Frameworks/Python.framework/Versions/3.8/lib/python3.8/site-packages (from astunparse->pyflowchart) (1.13.0)\n",
      "Requirement already satisfied: wheel<1.0,>=0.23.0 in /Library/Frameworks/Python.framework/Versions/3.8/lib/python3.8/site-packages (from astunparse->pyflowchart) (0.36.2)\n",
      "\u001b[33mWARNING: You are using pip version 19.2.3, however version 21.2.1 is available.\n",
      "You should consider upgrading via the 'pip install --upgrade pip' command.\u001b[0m\n"
     ]
    }
   ],
   "source": [
    "import pandas as pd\n",
    "import numpy as np\n",
    "import re, io, csv\n",
    "import requests\n",
    "import sqlite3\n",
    "\n",
    "!pip install pyflowchart\n",
    "from pyflowchart import *"
   ]
  },
  {
   "cell_type": "code",
   "execution_count": 2,
   "metadata": {
    "executionInfo": {
     "elapsed": 985,
     "status": "ok",
     "timestamp": 1627678303144,
     "user": {
      "displayName": "Anish Saha",
      "photoUrl": "https://lh3.googleusercontent.com/a-/AOh14GgO-4Lh6fOW1Vb_q2Qe-3O9nUOuU2OINyHo7Hq4OQ=s64",
      "userId": "07643731058417560024"
     },
     "user_tz": 420
    },
    "id": "_nf_kPi6eb5t"
   },
   "outputs": [],
   "source": [
    "CSV_URL = 'https://raw.githubusercontent.com/anish-saha/airbnbNYC_data_pipeline/master/airbnbNYC.csv'\n",
    "download = requests.get(CSV_URL).content"
   ]
  },
  {
   "cell_type": "markdown",
   "metadata": {
    "id": "AjlMBO4XE3FK"
   },
   "source": [
    "## PART II. Setting Preliminary Integrity Constraints\n",
    "Here we run our integrity constraints on the uncleaned data to prove that the conditions for the **U1** use case have not been fulfilled."
   ]
  },
  {
   "cell_type": "code",
   "execution_count": 3,
   "metadata": {
    "executionInfo": {
     "elapsed": 10,
     "status": "ok",
     "timestamp": 1627678303148,
     "user": {
      "displayName": "Anish Saha",
      "photoUrl": "https://lh3.googleusercontent.com/a-/AOh14GgO-4Lh6fOW1Vb_q2Qe-3O9nUOuU2OINyHo7Hq4OQ=s64",
      "userId": "07643731058417560024"
     },
     "user_tz": 420
    },
    "id": "363qyFfrq7Av"
   },
   "outputs": [],
   "source": [
    "conn0 = sqlite3.connect('Test0DB.db')\n",
    "c0 = conn0.cursor()"
   ]
  },
  {
   "cell_type": "code",
   "execution_count": 4,
   "metadata": {
    "executionInfo": {
     "elapsed": 12160,
     "status": "ok",
     "timestamp": 1627678315300,
     "user": {
      "displayName": "Anish Saha",
      "photoUrl": "https://lh3.googleusercontent.com/a-/AOh14GgO-4Lh6fOW1Vb_q2Qe-3O9nUOuU2OINyHo7Hq4OQ=s64",
      "userId": "07643731058417560024"
     },
     "user_tz": 420
    },
    "id": "h3qFFGMMqZ2b"
   },
   "outputs": [],
   "source": [
    "df = pd.read_csv(io.StringIO(download.decode('utf-8')))\n",
    "df.to_sql('LISTINGSOG', conn0, if_exists='replace', index = False)"
   ]
  },
  {
   "cell_type": "code",
   "execution_count": 5,
   "metadata": {
    "colab": {
     "base_uri": "https://localhost:8080/"
    },
    "executionInfo": {
     "elapsed": 674,
     "status": "ok",
     "timestamp": 1627678315954,
     "user": {
      "displayName": "Anish Saha",
      "photoUrl": "https://lh3.googleusercontent.com/a-/AOh14GgO-4Lh6fOW1Vb_q2Qe-3O9nUOuU2OINyHo7Hq4OQ=s64",
      "userId": "07643731058417560024"
     },
     "user_tz": 420
    },
    "id": "_BRslQqercpJ",
    "outputId": "fbd8103e-aef3-47bd-9c45-b42638a6fbcb"
   },
   "outputs": [
    {
     "data": {
      "text/plain": [
       "26312"
      ]
     },
     "execution_count": 5,
     "metadata": {},
     "output_type": "execute_result"
    }
   ],
   "source": [
    "c0.execute('''SELECT * FROM Listingsog WHERE minimum_nights < 0 OR minimum_nights > 6 OR maximum_nights < 6''')\n",
    "len(c0.fetchall())"
   ]
  },
  {
   "cell_type": "code",
   "execution_count": 6,
   "metadata": {
    "colab": {
     "base_uri": "https://localhost:8080/"
    },
    "executionInfo": {
     "elapsed": 29,
     "status": "ok",
     "timestamp": 1627678315962,
     "user": {
      "displayName": "Anish Saha",
      "photoUrl": "https://lh3.googleusercontent.com/a-/AOh14GgO-4Lh6fOW1Vb_q2Qe-3O9nUOuU2OINyHo7Hq4OQ=s64",
      "userId": "07643731058417560024"
     },
     "user_tz": 420
    },
    "id": "RS0508N2r0OW",
    "outputId": "35d3643d-02eb-4a0f-c632-d6e68dd16d36"
   },
   "outputs": [
    {
     "data": {
      "text/plain": [
       "0"
      ]
     },
     "execution_count": 6,
     "metadata": {},
     "output_type": "execute_result"
    }
   ],
   "source": [
    "c0.execute('''SELECT bathrooms FROM Listingsog WHERE bathrooms < 1.5''') # this should show nothing to begin with as well since this is a new column name. previous column returns strings so comparison cannot be made.\n",
    "len(c0.fetchall())"
   ]
  },
  {
   "cell_type": "code",
   "execution_count": 7,
   "metadata": {
    "colab": {
     "base_uri": "https://localhost:8080/"
    },
    "executionInfo": {
     "elapsed": 831,
     "status": "ok",
     "timestamp": 1627678316771,
     "user": {
      "displayName": "Anish Saha",
      "photoUrl": "https://lh3.googleusercontent.com/a-/AOh14GgO-4Lh6fOW1Vb_q2Qe-3O9nUOuU2OINyHo7Hq4OQ=s64",
      "userId": "07643731058417560024"
     },
     "user_tz": 420
    },
    "id": "r-T_l0PV11Wb",
    "outputId": "39aab2b5-cf42-48a0-edb0-d531ec2eebbb"
   },
   "outputs": [
    {
     "data": {
      "text/plain": [
       "28377"
      ]
     },
     "execution_count": 7,
     "metadata": {},
     "output_type": "execute_result"
    }
   ],
   "source": [
    "c0.execute(''' SELECT * FROM Listingsog WHERE accommodates < 4 OR beds < 2 OR price > 800.0 ''')\n",
    "len(c0.fetchall())"
   ]
  },
  {
   "cell_type": "code",
   "execution_count": 8,
   "metadata": {
    "colab": {
     "base_uri": "https://localhost:8080/"
    },
    "executionInfo": {
     "elapsed": 17,
     "status": "ok",
     "timestamp": 1627678316774,
     "user": {
      "displayName": "Anish Saha",
      "photoUrl": "https://lh3.googleusercontent.com/a-/AOh14GgO-4Lh6fOW1Vb_q2Qe-3O9nUOuU2OINyHo7Hq4OQ=s64",
      "userId": "07643731058417560024"
     },
     "user_tz": 420
    },
    "id": "lPfbEXkk173r",
    "outputId": "b807c95b-524f-4cca-df0b-48a6ad119e32"
   },
   "outputs": [
    {
     "data": {
      "text/plain": [
       "0"
      ]
     },
     "execution_count": 8,
     "metadata": {},
     "output_type": "execute_result"
    }
   ],
   "source": [
    "c0.execute(''' SELECT * FROM Listingsog WHERE neighbourhood_cleansed != \"Financial District\" AND neighbourhood_cleansed != \"Greenwich Village\" AND neighbourhood_cleansed != \"Soho\" AND neighbourhood_cleansed != \"Lower East Side\" AND neighbourhood_cleansed != \"Chinatown\" AND neighbourhood_cleansed != \"Hamilton\" AND neighbourhood_cleansed = \"Clinton\" AND neighbourhood_cleansed != \"Chelsea\" AND neighbourhood_cleansed != \"Midtown\" AND neighbourhood_cleansed != \"Stuyvesant Town\" AND neighbourhood_cleansed != \"Turtle Bay\" AND neighbourhood_cleansed != \"Upper West Side\" AND neighbourhood_cleansed != \"Inwood\" AND neighbourhood_cleansed != \"Upper East Side\" AND neighbourhood_cleansed != \"Central Harlem\" AND neighbourhood_cleansed != \"East Harlem\" AND neighbourhood_cleansed != \"Morningside Heights\" AND neighbourhood_cleansed != \"Washington Heights\"''') # neighborhoods\n",
    "len(c0.fetchall())"
   ]
  },
  {
   "cell_type": "code",
   "execution_count": 9,
   "metadata": {
    "colab": {
     "base_uri": "https://localhost:8080/"
    },
    "executionInfo": {
     "elapsed": 708,
     "status": "ok",
     "timestamp": 1627678317471,
     "user": {
      "displayName": "Anish Saha",
      "photoUrl": "https://lh3.googleusercontent.com/a-/AOh14GgO-4Lh6fOW1Vb_q2Qe-3O9nUOuU2OINyHo7Hq4OQ=s64",
      "userId": "07643731058417560024"
     },
     "user_tz": 420
    },
    "id": "CBOLn3Pa2CIp",
    "outputId": "e8b6eba4-24a9-4bfa-9eab-6199264173e2"
   },
   "outputs": [
    {
     "data": {
      "text/plain": [
       "24488"
      ]
     },
     "execution_count": 9,
     "metadata": {},
     "output_type": "execute_result"
    }
   ],
   "source": [
    "c0.execute('''SELECT * FROM Listingsog WHERE number_of_reviews <=10 OR review_scores_rating <= 80.0''')\n",
    "len(c0.fetchall())"
   ]
  },
  {
   "cell_type": "code",
   "execution_count": 10,
   "metadata": {
    "colab": {
     "base_uri": "https://localhost:8080/"
    },
    "executionInfo": {
     "elapsed": 430,
     "status": "ok",
     "timestamp": 1627678317885,
     "user": {
      "displayName": "Anish Saha",
      "photoUrl": "https://lh3.googleusercontent.com/a-/AOh14GgO-4Lh6fOW1Vb_q2Qe-3O9nUOuU2OINyHo7Hq4OQ=s64",
      "userId": "07643731058417560024"
     },
     "user_tz": 420
    },
    "id": "RbuoGnp32F-g",
    "outputId": "f02c179a-c8b8-4a85-e09b-9da71121be07"
   },
   "outputs": [
    {
     "data": {
      "text/plain": [
       "17662"
      ]
     },
     "execution_count": 10,
     "metadata": {},
     "output_type": "execute_result"
    }
   ],
   "source": [
    "c0.execute('''SELECT * FROM Listingsog WHERE room_type != \"Entire home/apt\"''')\n",
    "len(c0.fetchall())"
   ]
  },
  {
   "cell_type": "code",
   "execution_count": 11,
   "metadata": {
    "colab": {
     "base_uri": "https://localhost:8080/"
    },
    "executionInfo": {
     "elapsed": 13,
     "status": "ok",
     "timestamp": 1627678317886,
     "user": {
      "displayName": "Anish Saha",
      "photoUrl": "https://lh3.googleusercontent.com/a-/AOh14GgO-4Lh6fOW1Vb_q2Qe-3O9nUOuU2OINyHo7Hq4OQ=s64",
      "userId": "07643731058417560024"
     },
     "user_tz": 420
    },
    "id": "CDkpqX0f2KSc",
    "outputId": "4f9b8823-e73b-4829-ce1f-753141538172"
   },
   "outputs": [
    {
     "data": {
      "text/plain": [
       "0"
      ]
     },
     "execution_count": 11,
     "metadata": {},
     "output_type": "execute_result"
    }
   ],
   "source": [
    "c0.execute('''SELECT * FROM Listingsog WHERE picture_url = \"\"''')\n",
    "len(c0.fetchall())"
   ]
  },
  {
   "cell_type": "code",
   "execution_count": 12,
   "metadata": {
    "colab": {
     "base_uri": "https://localhost:8080/"
    },
    "executionInfo": {
     "elapsed": 190,
     "status": "ok",
     "timestamp": 1627678318070,
     "user": {
      "displayName": "Anish Saha",
      "photoUrl": "https://lh3.googleusercontent.com/a-/AOh14GgO-4Lh6fOW1Vb_q2Qe-3O9nUOuU2OINyHo7Hq4OQ=s64",
      "userId": "07643731058417560024"
     },
     "user_tz": 420
    },
    "id": "hi7rQreQ20o6",
    "outputId": "968bb7b0-0b9a-4cd7-e02d-85f653e8bc0d"
   },
   "outputs": [
    {
     "data": {
      "text/plain": [
       "6918"
      ]
     },
     "execution_count": 12,
     "metadata": {},
     "output_type": "execute_result"
    }
   ],
   "source": [
    "c0.execute('''SELECT * FROM Listingsog WHERE host_identity_verified = \"f\"''')\n",
    "len(c0.fetchall())"
   ]
  },
  {
   "cell_type": "code",
   "execution_count": 13,
   "metadata": {
    "colab": {
     "base_uri": "https://localhost:8080/"
    },
    "executionInfo": {
     "elapsed": 195,
     "status": "ok",
     "timestamp": 1627678318260,
     "user": {
      "displayName": "Anish Saha",
      "photoUrl": "https://lh3.googleusercontent.com/a-/AOh14GgO-4Lh6fOW1Vb_q2Qe-3O9nUOuU2OINyHo7Hq4OQ=s64",
      "userId": "07643731058417560024"
     },
     "user_tz": 420
    },
    "id": "upbRWL1f238B",
    "outputId": "56107d69-3958-435f-ec32-f067500936f1"
   },
   "outputs": [
    {
     "data": {
      "text/plain": [
       "2906"
      ]
     },
     "execution_count": 13,
     "metadata": {},
     "output_type": "execute_result"
    }
   ],
   "source": [
    "c0.execute('''SELECT * FROM Listingsog WHERE host_response_time = \"within a day\"''')\n",
    "len(c0.fetchall())"
   ]
  },
  {
   "cell_type": "markdown",
   "metadata": {
    "id": "n0h0EZBqFJUy"
   },
   "source": [
    "## PART III. Data Cleaning Pipeline\n",
    "In our case, **U1** describes a use case where a user is seeking to take a college trip, so the user is part of a group of 4 friends seeking to stay at a place in New York City for 6 nights within a specific price range (less than $800/night), neighborhood (Manhattan), and is very well-reviewed (at least 10 reviews with an average rating higher than 80/100). In addition, the user would prefer that the place be an entire private setup (without the host), that the host provide at least 1 image (to ensure veracity), and that the place allow smoking or partying. Finally, to ensure that both the host and users involved feel comfortable, users would prefer experienced, verified, hosts with fast response times. A number of extraneous columns are also removed for the sake of convenience; it enhances the customer’s experience as it will be very difficult for a user to comprehend nearly 80 categories when weighing the pros and cons of listings.\n"
   ]
  },
  {
   "cell_type": "code",
   "execution_count": 14,
   "metadata": {
    "executionInfo": {
     "elapsed": 10,
     "status": "ok",
     "timestamp": 1627678318261,
     "user": {
      "displayName": "Anish Saha",
      "photoUrl": "https://lh3.googleusercontent.com/a-/AOh14GgO-4Lh6fOW1Vb_q2Qe-3O9nUOuU2OINyHo7Hq4OQ=s64",
      "userId": "07643731058417560024"
     },
     "user_tz": 420
    },
    "id": "3sIVBGAN_KU6"
   },
   "outputs": [],
   "source": [
    "st = StartNode('Original Dataset D')\n",
    "num_rows_original = len(df)\n",
    "num_cols_original = len(df.columns)"
   ]
  },
  {
   "cell_type": "code",
   "execution_count": 15,
   "metadata": {
    "colab": {
     "base_uri": "https://localhost:8080/"
    },
    "executionInfo": {
     "elapsed": 11,
     "status": "ok",
     "timestamp": 1627678318263,
     "user": {
      "displayName": "Anish Saha",
      "photoUrl": "https://lh3.googleusercontent.com/a-/AOh14GgO-4Lh6fOW1Vb_q2Qe-3O9nUOuU2OINyHo7Hq4OQ=s64",
      "userId": "07643731058417560024"
     },
     "user_tz": 420
    },
    "id": "GSGVJ6Ie_KvY",
    "outputId": "2ee49c02-861e-45ba-9b11-14d81e583741"
   },
   "outputs": [
    {
     "name": "stdout",
     "output_type": "stream",
     "text": [
      "Peforming data filtering, as per the user's preferences.\n",
      "\n",
      "Filtering by number of nights: 26312 rows removed.\n"
     ]
    }
   ],
   "source": [
    "op0 = OperationNode('Filter by number of nights')\n",
    "result = df.loc[(df['minimum_nights'] > 0) & (df['minimum_nights'] <= 6) & (df['maximum_nights'] >= 6)]\n",
    "print('Peforming data filtering, as per the user\\'s preferences.'); print()\n",
    "print('Filtering by number of nights: ' + str(num_rows_original-len(result)) + ' rows removed.')\n",
    "num_rows = len(result)"
   ]
  },
  {
   "cell_type": "code",
   "execution_count": 16,
   "metadata": {
    "colab": {
     "base_uri": "https://localhost:8080/"
    },
    "executionInfo": {
     "elapsed": 268,
     "status": "ok",
     "timestamp": 1627678318524,
     "user": {
      "displayName": "Anish Saha",
      "photoUrl": "https://lh3.googleusercontent.com/a-/AOh14GgO-4Lh6fOW1Vb_q2Qe-3O9nUOuU2OINyHo7Hq4OQ=s64",
      "userId": "07643731058417560024"
     },
     "user_tz": 420
    },
    "id": "6Hgeg-OpAVts",
    "outputId": "a6897f04-b79e-49d4-be02-aa3b09e53b46"
   },
   "outputs": [
    {
     "name": "stdout",
     "output_type": "stream",
     "text": [
      "Peforming data filtering, as per the user's preferences.\n",
      "\n",
      "Filtering by number of bathrooms: 8911 rows removed.\n"
     ]
    },
    {
     "name": "stderr",
     "output_type": "stream",
     "text": [
      "<ipython-input-16-b117a3c47dda>:12: SettingWithCopyWarning: \n",
      "A value is trying to be set on a copy of a slice from a DataFrame.\n",
      "Try using .loc[row_indexer,col_indexer] = value instead\n",
      "\n",
      "See the caveats in the documentation: https://pandas.pydata.org/pandas-docs/stable/user_guide/indexing.html#returning-a-view-versus-a-copy\n",
      "  result['bathrooms'] = result['bathrooms_text'].apply(convert_bathrooms_text_to_float)\n"
     ]
    }
   ],
   "source": [
    "def convert_bathrooms_text_to_float(x):\n",
    "  if type(x) == str:\n",
    "    match = re.findall(r\"[-+]?\\d*\\.\\d+|\\d+\", x)\n",
    "    if len(match) > 0:\n",
    "      return float(match[0])\n",
    "    else:\n",
    "      return None\n",
    "  else:\n",
    "    return None\n",
    "\n",
    "op1 = OperationNode('Preprocess and clean the bathrooms_text column')\n",
    "result['bathrooms'] = result['bathrooms_text'].apply(convert_bathrooms_text_to_float)\n",
    "result = result.loc[result['bathrooms'] >= 1.5]\n",
    "print('Peforming data filtering, as per the user\\'s preferences.'); print()\n",
    "print('Filtering by number of bathrooms: ' + str(num_rows-len(result)) + ' rows removed.')\n",
    "num_rows = len(result)"
   ]
  },
  {
   "cell_type": "code",
   "execution_count": 17,
   "metadata": {
    "colab": {
     "base_uri": "https://localhost:8080/"
    },
    "executionInfo": {
     "elapsed": 48,
     "status": "ok",
     "timestamp": 1627678318526,
     "user": {
      "displayName": "Anish Saha",
      "photoUrl": "https://lh3.googleusercontent.com/a-/AOh14GgO-4Lh6fOW1Vb_q2Qe-3O9nUOuU2OINyHo7Hq4OQ=s64",
      "userId": "07643731058417560024"
     },
     "user_tz": 420
    },
    "id": "IvIOSxJ7_LFk",
    "outputId": "431389f0-c95f-45a5-8636-00e7f3e0b875"
   },
   "outputs": [
    {
     "name": "stdout",
     "output_type": "stream",
     "text": [
      "Filtering by price, number of guests to accomodate, and number of beds: 869 rows removed.\n"
     ]
    }
   ],
   "source": [
    "def convert_price_to_float(x):\n",
    "  if type(x) == str:\n",
    "    match = x.replace('$', '')\n",
    "    match = match.replace(',', '')\n",
    "    if len(match) > 0:\n",
    "      return float(match)\n",
    "    else:\n",
    "      return -1.0\n",
    "  else:\n",
    "    return -1.0\n",
    "\n",
    "def convert_float_to_price(x):\n",
    "  return '$' + '{:.2f}'.format(x)\n",
    "\n",
    "op2 = OperationNode('Filter by price, number of guests, and number of beds')\n",
    "result['price'] = result['price'].apply(convert_price_to_float)\n",
    "result = result.loc[(result['accommodates'] >= 4) & (result['beds'] >= 2) & (result['price'] > 0.0) & (result['price'] <= 800.0)]\n",
    "result['price'] = result['price'].apply(convert_float_to_price) # return the price column to its original formatting\n",
    "\n",
    "print('Filtering by price, number of guests to accomodate, and number of beds: ' + str(num_rows-len(result)) + ' rows removed.')\n",
    "num_rows = len(result)"
   ]
  },
  {
   "cell_type": "code",
   "execution_count": 18,
   "metadata": {
    "colab": {
     "base_uri": "https://localhost:8080/"
    },
    "executionInfo": {
     "elapsed": 42,
     "status": "ok",
     "timestamp": 1627678318528,
     "user": {
      "displayName": "Anish Saha",
      "photoUrl": "https://lh3.googleusercontent.com/a-/AOh14GgO-4Lh6fOW1Vb_q2Qe-3O9nUOuU2OINyHo7Hq4OQ=s64",
      "userId": "07643731058417560024"
     },
     "user_tz": 420
    },
    "id": "9UYQ_dKW_LcV",
    "outputId": "3085616e-b489-49a7-9f9b-cd052c8289a2"
   },
   "outputs": [
    {
     "name": "stdout",
     "output_type": "stream",
     "text": [
      "Filtering by specified neighbourhood: 671 rows removed.\n"
     ]
    }
   ],
   "source": [
    "op3 = OperationNode('Filter by specified neighborhood (Manhattan)')\n",
    "neighborhoods = ['Financial District', 'Greenwich Village', 'Soho', 'Lower East Side', 'Chinatown', 'Hamilton',\n",
    "                 'Clinton', 'Chelsea', 'Midtown', 'Stuyvesant Town', 'Turtle Bay', 'Upper West Side', 'Inwood',\n",
    "                 'Upper East Side', 'Central Harlem', 'East Harlem', 'Morningside Heights', 'Washington Heights']\n",
    "result = result[result['neighbourhood_cleansed'].isin(neighborhoods)] # filter by only neighborhoods in Manhattan\n",
    "print('Filtering by specified neighbourhood: ' + str(num_rows-len(result)) + ' rows removed.')\n",
    "result['neighborhood'] = result['neighbourhood_cleansed'] # better naming convention, original neighbourhood is uninformative\n",
    "num_rows = len(result)"
   ]
  },
  {
   "cell_type": "code",
   "execution_count": 19,
   "metadata": {
    "colab": {
     "base_uri": "https://localhost:8080/"
    },
    "executionInfo": {
     "elapsed": 37,
     "status": "ok",
     "timestamp": 1627678318529,
     "user": {
      "displayName": "Anish Saha",
      "photoUrl": "https://lh3.googleusercontent.com/a-/AOh14GgO-4Lh6fOW1Vb_q2Qe-3O9nUOuU2OINyHo7Hq4OQ=s64",
      "userId": "07643731058417560024"
     },
     "user_tz": 420
    },
    "id": "oF7Qxz5l_L0Y",
    "outputId": "d4049257-1768-46e7-a945-a8aa16491aca"
   },
   "outputs": [
    {
     "name": "stdout",
     "output_type": "stream",
     "text": [
      "Filtering by well-reviewed rentals: 74 rows removed.\n"
     ]
    }
   ],
   "source": [
    "op4 = OperationNode('Filter by well-reviewed rentals')\n",
    "result = result.loc[(result['number_of_reviews'] > 10) & (result['review_scores_rating'] > 80.0)]\n",
    "print('Filtering by well-reviewed rentals: ' + str(num_rows-len(result)) + ' rows removed.')\n",
    "num_rows = len(result)"
   ]
  },
  {
   "cell_type": "code",
   "execution_count": 20,
   "metadata": {
    "colab": {
     "base_uri": "https://localhost:8080/"
    },
    "executionInfo": {
     "elapsed": 34,
     "status": "ok",
     "timestamp": 1627678318530,
     "user": {
      "displayName": "Anish Saha",
      "photoUrl": "https://lh3.googleusercontent.com/a-/AOh14GgO-4Lh6fOW1Vb_q2Qe-3O9nUOuU2OINyHo7Hq4OQ=s64",
      "userId": "07643731058417560024"
     },
     "user_tz": 420
    },
    "id": "C_trU0fA_N0p",
    "outputId": "30b0d02c-9a20-4d46-ac49-57040c9cc601"
   },
   "outputs": [
    {
     "name": "stdout",
     "output_type": "stream",
     "text": [
      "Filtering by room type specification (private setups only): 6 rows removed.\n"
     ]
    }
   ],
   "source": [
    "op5 = OperationNode('Filter by room type, remove entries for shared rooms, apartments, and homes')\n",
    "result = result.loc[result['room_type'].str.strip() == 'Entire home/apt'] \n",
    "print('Filtering by room type specification (private setups only): ' + str(num_rows-len(result)) + ' rows removed.')\n",
    "num_rows = len(result)"
   ]
  },
  {
   "cell_type": "code",
   "execution_count": 21,
   "metadata": {
    "colab": {
     "base_uri": "https://localhost:8080/"
    },
    "executionInfo": {
     "elapsed": 238,
     "status": "ok",
     "timestamp": 1627678318739,
     "user": {
      "displayName": "Anish Saha",
      "photoUrl": "https://lh3.googleusercontent.com/a-/AOh14GgO-4Lh6fOW1Vb_q2Qe-3O9nUOuU2OINyHo7Hq4OQ=s64",
      "userId": "07643731058417560024"
     },
     "user_tz": 420
    },
    "id": "vzy43q9y_OM4",
    "outputId": "7fe22a89-0b8b-42a9-f011-94811932b635"
   },
   "outputs": [
    {
     "name": "stdout",
     "output_type": "stream",
     "text": [
      "Filtering out places with no images: 0 rows removed.\n"
     ]
    }
   ],
   "source": [
    "result = result.loc[result['picture_url'].str.strip() != ''] \n",
    "print('Filtering out places with no images: ' + str(num_rows-len(result)) + ' rows removed.')\n",
    "num_rows = len(result)"
   ]
  },
  {
   "cell_type": "code",
   "execution_count": 22,
   "metadata": {
    "executionInfo": {
     "elapsed": 58,
     "status": "ok",
     "timestamp": 1627678318740,
     "user": {
      "displayName": "Anish Saha",
      "photoUrl": "https://lh3.googleusercontent.com/a-/AOh14GgO-4Lh6fOW1Vb_q2Qe-3O9nUOuU2OINyHo7Hq4OQ=s64",
      "userId": "07643731058417560024"
     },
     "user_tz": 420
    },
    "id": "96szKgNo_MSZ"
   },
   "outputs": [],
   "source": [
    "op6 = OperationNode('Add column to flag non-smoking listings based on name/description')\n",
    "non_smoking_boolean = result.description.str.contains('smok') | result.name.str.contains('smok')\n",
    "result['no_smoking?'] = np.where(non_smoking_boolean, 'True', 'Not specified')"
   ]
  },
  {
   "cell_type": "code",
   "execution_count": 23,
   "metadata": {
    "colab": {
     "base_uri": "https://localhost:8080/"
    },
    "executionInfo": {
     "elapsed": 56,
     "status": "ok",
     "timestamp": 1627678318740,
     "user": {
      "displayName": "Anish Saha",
      "photoUrl": "https://lh3.googleusercontent.com/a-/AOh14GgO-4Lh6fOW1Vb_q2Qe-3O9nUOuU2OINyHo7Hq4OQ=s64",
      "userId": "07643731058417560024"
     },
     "user_tz": 420
    },
    "id": "e_S4YPvq_O4v",
    "outputId": "b4555eeb-b581-4bf7-d9f4-633db8a3c1a7"
   },
   "outputs": [
    {
     "name": "stdout",
     "output_type": "stream",
     "text": [
      "Filtering out places with no specification on no smoking: 2 rows removed.\n"
     ]
    }
   ],
   "source": [
    "op7 = OperationNode('Filtering out places with no specification on no smoking')\n",
    "result = result.loc[result['no_smoking?'].str.strip() != 'True']\n",
    "print('Filtering out places with no specification on no smoking: ' + str(num_rows-len(result)) + ' rows removed.')\n",
    "num_rows = len(result)"
   ]
  },
  {
   "cell_type": "code",
   "execution_count": 24,
   "metadata": {
    "executionInfo": {
     "elapsed": 52,
     "status": "ok",
     "timestamp": 1627678318741,
     "user": {
      "displayName": "Anish Saha",
      "photoUrl": "https://lh3.googleusercontent.com/a-/AOh14GgO-4Lh6fOW1Vb_q2Qe-3O9nUOuU2OINyHo7Hq4OQ=s64",
      "userId": "07643731058417560024"
     },
     "user_tz": 420
    },
    "id": "12pKrBUa_Pda"
   },
   "outputs": [],
   "source": [
    "op8 = OperationNode('Add column to flag non-party listings based on name/description')\n",
    "non_party_boolean = result.description.str.contains('no.{0,5}party') | result.name.str.contains('no.{0,5}party')\n",
    "result['no_party?'] = np.where(non_party_boolean, 'True', 'Not specified')"
   ]
  },
  {
   "cell_type": "code",
   "execution_count": 25,
   "metadata": {
    "colab": {
     "base_uri": "https://localhost:8080/"
    },
    "executionInfo": {
     "elapsed": 52,
     "status": "ok",
     "timestamp": 1627678318742,
     "user": {
      "displayName": "Anish Saha",
      "photoUrl": "https://lh3.googleusercontent.com/a-/AOh14GgO-4Lh6fOW1Vb_q2Qe-3O9nUOuU2OINyHo7Hq4OQ=s64",
      "userId": "07643731058417560024"
     },
     "user_tz": 420
    },
    "id": "eQL6HkNQ_JoE",
    "outputId": "d2c93544-ea56-4980-fcc4-7a09d8233366"
   },
   "outputs": [
    {
     "name": "stdout",
     "output_type": "stream",
     "text": [
      "Filtering out places with no parties allowed: 0 rows removed.\n"
     ]
    }
   ],
   "source": [
    "op9 = OperationNode('Filter out places with no parties allowed')\n",
    "result = result.loc[result['no_party?'].str.strip() != 'True']\n",
    "print('Filtering out places with no parties allowed: ' + str(num_rows-len(result)) + ' rows removed.')\n",
    "num_rows = len(result)"
   ]
  },
  {
   "cell_type": "code",
   "execution_count": 26,
   "metadata": {
    "colab": {
     "base_uri": "https://localhost:8080/"
    },
    "executionInfo": {
     "elapsed": 48,
     "status": "ok",
     "timestamp": 1627678318743,
     "user": {
      "displayName": "Anish Saha",
      "photoUrl": "https://lh3.googleusercontent.com/a-/AOh14GgO-4Lh6fOW1Vb_q2Qe-3O9nUOuU2OINyHo7Hq4OQ=s64",
      "userId": "07643731058417560024"
     },
     "user_tz": 420
    },
    "id": "r4xD9V16dzix",
    "outputId": "2dd5ab49-4cae-4d4f-b68c-6aae2914f38d"
   },
   "outputs": [
    {
     "name": "stdout",
     "output_type": "stream",
     "text": [
      "Filtering out hosts that are not verified: 9 rows removed.\n"
     ]
    }
   ],
   "source": [
    "op10 = OperationNode('Filtering out hosts that are not verified')\n",
    "result = result.loc[result['host_identity_verified'].str.strip() != 'f']\n",
    "print('Filtering out hosts that are not verified: ' + str(num_rows-len(result)) + ' rows removed.')\n",
    "num_rows = len(result)"
   ]
  },
  {
   "cell_type": "code",
   "execution_count": 27,
   "metadata": {
    "colab": {
     "base_uri": "https://localhost:8080/"
    },
    "executionInfo": {
     "elapsed": 44,
     "status": "ok",
     "timestamp": 1627678318743,
     "user": {
      "displayName": "Anish Saha",
      "photoUrl": "https://lh3.googleusercontent.com/a-/AOh14GgO-4Lh6fOW1Vb_q2Qe-3O9nUOuU2OINyHo7Hq4OQ=s64",
      "userId": "07643731058417560024"
     },
     "user_tz": 420
    },
    "id": "6VDp1MtCjlSC",
    "outputId": "cb05322f-28d7-484d-c018-5253ed253cfa"
   },
   "outputs": [
    {
     "name": "stdout",
     "output_type": "stream",
     "text": [
      "Filtering out hosts that don't respond within a few hours: 7 rows removed.\n"
     ]
    }
   ],
   "source": [
    "op11 = OperationNode('Filtering out hosts that don\\'t respond within a few hours')\n",
    "result = result.loc[result['host_response_time'].str.strip() != 'within a day']\n",
    "print('Filtering out hosts that don\\'t respond within a few hours: ' + str(num_rows-len(result)) + ' rows removed.')\n",
    "num_rows = len(result)"
   ]
  },
  {
   "cell_type": "code",
   "execution_count": 28,
   "metadata": {
    "colab": {
     "base_uri": "https://localhost:8080/"
    },
    "executionInfo": {
     "elapsed": 40,
     "status": "ok",
     "timestamp": 1627678318744,
     "user": {
      "displayName": "Anish Saha",
      "photoUrl": "https://lh3.googleusercontent.com/a-/AOh14GgO-4Lh6fOW1Vb_q2Qe-3O9nUOuU2OINyHo7Hq4OQ=s64",
      "userId": "07643731058417560024"
     },
     "user_tz": 420
    },
    "id": "UMsX2XMfd0lY",
    "outputId": "030089e6-28c8-4d1c-ddf0-75c32ec1a089"
   },
   "outputs": [
    {
     "name": "stdout",
     "output_type": "stream",
     "text": [
      "Filtering out inexperienced hosts who have only been hosts since 2020 or 2021: 14 rows removed.\n"
     ]
    }
   ],
   "source": [
    "def is_inexperienced_host(x):\n",
    "  if type(x) == str:\n",
    "    matches = re.findall(r\"([1-9]|1[0-2])\\/([1-9]|1[0-9]|2[0-9]|3[0-1])\\/(20|21)\", x)\n",
    "    if len(matches) == 0: \n",
    "      return False\n",
    "    else: \n",
    "      return True\n",
    "  else:\n",
    "    return True\n",
    "\n",
    "op11 = OperationNode('Filtering out inexperienced hosts and hosts who typically have slow response times.')\n",
    "result['inexperienced_host'] = result['host_since'].apply(is_inexperienced_host)\n",
    "result = result.loc[(result['inexperienced_host'] == False) & ((result['host_response_time'] == 'within an hour') | (result['host_response_time'] == 'within a few hours'))]\n",
    "print('Filtering out inexperienced hosts who have only been hosts since 2020 or 2021: ' + str(num_rows-len(result)) + ' rows removed.')\n",
    "num_rows = len(result)"
   ]
  },
  {
   "cell_type": "code",
   "execution_count": 29,
   "metadata": {
    "colab": {
     "base_uri": "https://localhost:8080/"
    },
    "executionInfo": {
     "elapsed": 32,
     "status": "ok",
     "timestamp": 1627678318745,
     "user": {
      "displayName": "Anish Saha",
      "photoUrl": "https://lh3.googleusercontent.com/a-/AOh14GgO-4Lh6fOW1Vb_q2Qe-3O9nUOuU2OINyHo7Hq4OQ=s64",
      "userId": "07643731058417560024"
     },
     "user_tz": 420
    },
    "id": "appR_YFPd8hA",
    "outputId": "b56bc7d7-9095-4613-a40b-547ec39821fc"
   },
   "outputs": [
    {
     "name": "stdout",
     "output_type": "stream",
     "text": [
      "Removing unnecessary colums: 53 cols removed.\n"
     ]
    }
   ],
   "source": [
    "op12 = OperationNode('Remove unnecessary columns')\n",
    "result = result.drop(columns=['id', 'scrape_id', 'last_scraped', 'host_is_superhost', 'host_url', 'host_about', 'host_listings_count', 'neighbourhood',\n",
    "                              'host_total_listings_count', 'host_verifications', 'host_has_profile_pic', 'host_thumbnail_url', 'host_picture_url', \n",
    "                              'host_neighbourhood', 'host_response_rate',\t'host_acceptance_rate', 'no_party?', 'no_smoking?', 'inexperienced_host',\n",
    "                              'neighbourhood_cleansed', 'neighborhood_overview', 'neighbourhood_group_cleansed', 'bathrooms_text', 'listing_url', \n",
    "                              'minimum_minimum_nights', 'maximum_minimum_nights', 'minimum_maximum_nights','maximum_maximum_nights', 'license',\n",
    "                              'minimum_nights_avg_ntm', 'maximum_nights_avg_ntm', 'calendar_updated', 'availability_30', 'availability_60', 'property_type', \n",
    "                              'availability_90', 'availability_365', 'number_of_reviews_l30d', 'first_review', 'last_review', 'review_scores_value',\n",
    "                              'review_scores_accuracy', 'review_scores_cleanliness', 'review_scores_checkin', 'calendar_last_scraped', \n",
    "                              'review_scores_communication', 'review_scores_location', 'number_of_reviews_ltm', 'latitude', 'longitude',\n",
    "                              'instant_bookable',  'reviews_per_month', 'calculated_host_listings_count', 'calculated_host_listings_count_entire_homes',\n",
    "                              'calculated_host_listings_count_private_rooms', 'calculated_host_listings_count_shared_rooms', 'has_availability']);\n",
    "print('Removing unnecessary colums: ' + str(num_cols_original-len(result.columns)) + ' cols removed.')"
   ]
  },
  {
   "cell_type": "markdown",
   "metadata": {
    "id": "ZnHB9zpGJCuo"
   },
   "source": [
    "## PART IV. Create an Inner Workflow Model \n",
    "Using the ```pyflowchart``` library, we develop an inner workflow model to display the data pipeline that processes the original dataset **D** and generates the final, cleaned dataset **D0**. The output of this code is then copy-pasted into http://flowchart.js.org/ in order to translate the generated textual representation into the SVG flow chart diagram used in the project report. \n",
    "\n",
    "\n"
   ]
  },
  {
   "cell_type": "code",
   "execution_count": 30,
   "metadata": {
    "colab": {
     "base_uri": "https://localhost:8080/"
    },
    "executionInfo": {
     "elapsed": 28,
     "status": "ok",
     "timestamp": 1627678318746,
     "user": {
      "displayName": "Anish Saha",
      "photoUrl": "https://lh3.googleusercontent.com/a-/AOh14GgO-4Lh6fOW1Vb_q2Qe-3O9nUOuU2OINyHo7Hq4OQ=s64",
      "userId": "07643731058417560024"
     },
     "user_tz": 420
    },
    "id": "e0Tf1WmApPjr",
    "outputId": "3cf1527c-183b-4703-bf35-0d965f7112ed"
   },
   "outputs": [
    {
     "name": "stdout",
     "output_type": "stream",
     "text": [
      "st0=>start: start Original Dataset D\n",
      "op1=>operation: Filter by number of nights\n",
      "op2=>operation: Preprocess and clean the bathrooms_text column\n",
      "op3=>operation: Filter by price, number of guests, and number of beds\n",
      "op4=>operation: Filter by specified neighborhood (Manhattan)\n",
      "op5=>operation: Filter by well-reviewed rentals\n",
      "op6=>operation: Filter by room type, remove entries for shared rooms, apartments, and homes\n",
      "op7=>operation: Add column to flag non-smoking listings based on name/description\n",
      "op8=>operation: Filtering out places with no specification on no smoking\n",
      "op9=>operation: Add column to flag non-party listings based on name/description\n",
      "op10=>operation: Filter out places with no parties allowed\n",
      "op11=>operation: Filtering out hosts that are not verified\n",
      "op13=>operation: Filtering out inexperienced hosts and hosts who typically have slow response times.\n",
      "op14=>operation: Remove unnecessary columns\n",
      "e15=>end: end Cleaned Dataset D0\n",
      "\n",
      "st0->op1\n",
      "op1->op2\n",
      "op2->op3\n",
      "op3->op4\n",
      "op4->op5\n",
      "op5->op6\n",
      "op6->op7\n",
      "op7->op8\n",
      "op8->op9\n",
      "op9->op10\n",
      "op10->op11\n",
      "op11->op13\n",
      "op13->op14\n",
      "op14->e15\n",
      "\n"
     ]
    }
   ],
   "source": [
    "# Create Inner Workflow model, use http://flowchart.js.org/ and translate the generated textual representation into SVG flow chart diagrams\n",
    "e = EndNode('Cleaned Dataset D0')\n",
    "st.connect(op0)\n",
    "op0.connect(op1)\n",
    "op1.connect(op2)\n",
    "op2.connect(op3)\n",
    "op3.connect(op4)\n",
    "op4.connect(op5)\n",
    "op5.connect(op6)\n",
    "op6.connect(op7)\n",
    "op7.connect(op8)\n",
    "op8.connect(op9)\n",
    "op9.connect(op10)\n",
    "op10.connect(op11)\n",
    "op11.connect(op12)\n",
    "op12.connect(e)\n",
    "\n",
    "fc = Flowchart(st)\n",
    "print(fc.flowchart())"
   ]
  },
  {
   "cell_type": "code",
   "execution_count": 31,
   "metadata": {
    "colab": {
     "base_uri": "https://localhost:8080/"
    },
    "executionInfo": {
     "elapsed": 21,
     "status": "ok",
     "timestamp": 1627678318746,
     "user": {
      "displayName": "Anish Saha",
      "photoUrl": "https://lh3.googleusercontent.com/a-/AOh14GgO-4Lh6fOW1Vb_q2Qe-3O9nUOuU2OINyHo7Hq4OQ=s64",
      "userId": "07643731058417560024"
     },
     "user_tz": 420
    },
    "id": "M43KHxCMXawM",
    "outputId": "a93151a2-e33e-4e56-ccf2-c0b984137612"
   },
   "outputs": [
    {
     "name": "stdout",
     "output_type": "stream",
     "text": [
      "st17=>start: start Data Profiling: Manually inspect dataset columns and entries and devise a plan on how to clean dataset for U1\n",
      "op18=>operation: Data Loading: Load data into Python workspace\n",
      "io19=>inputoutput: input: Original dataset: airbnbNYC.csv\n",
      "op20=>operation: Data Cleaning (Inner Workflow Model)\n",
      "io21=>inputoutput: output: Cleaned dataset: airbnbNYC2021_cleaned.csv\n",
      "io22=>inputoutput: input: Cleaned dataset: airbnbNYC2021_cleaned.csv\n",
      "op23=>operation: IC violation checks\n",
      "e24=>end: end Save cleaned dataset D0\n",
      "\n",
      "st17->op18\n",
      "op18->io19\n",
      "io19->op20\n",
      "op20->io21\n",
      "io21->io22\n",
      "io22->op23\n",
      "op23->e24\n",
      "\n"
     ]
    }
   ],
   "source": [
    "# Create Outer Workflow model, use http://flowchart.js.org/ and translate the generated textual representation into SVG flow chart diagrams\n",
    "out_st = StartNode('Data Profiling: Manually inspect dataset columns and entries and devise a plan on how to clean dataset for U1')\n",
    "out_op0 = OperationNode('Data Loading: Load data into Python workspace')\n",
    "out_io0 =  InputOutputNode(InputOutputNode.INPUT, 'Original dataset: airbnbNYC.csv')\n",
    "out_op1 = OperationNode('Data Cleaning (Inner Workflow Model)')\n",
    "out_io1 = InputOutputNode(InputOutputNode.OUTPUT, 'Cleaned dataset: airbnbNYC2021_cleaned.csv')\n",
    "out_io2 = InputOutputNode(InputOutputNode.INPUT, 'Cleaned dataset: airbnbNYC2021_cleaned.csv')\n",
    "out_op2 = OperationNode('IC violation checks')\n",
    "out_e = EndNode('Save cleaned dataset D0')\n",
    "\n",
    "out_st.connect(out_op0)\n",
    "out_op0.connect(out_io0)\n",
    "out_io0.connect(out_op1)\n",
    "out_op1.connect(out_io1)\n",
    "out_io1.connect(out_io2)\n",
    "out_io2.connect(out_op2)\n",
    "out_op2.connect(out_e)\n",
    "\n",
    "out_fc = Flowchart(out_st)\n",
    "print(out_fc.flowchart())\n"
   ]
  },
  {
   "cell_type": "markdown",
   "metadata": {
    "id": "NoNdVUBHK3xk"
   },
   "source": [
    "## Part V. Generate CSV Output\n",
    "In this step we generate an output .csv file for **D0**, our cleaned dataset."
   ]
  },
  {
   "cell_type": "code",
   "execution_count": 32,
   "metadata": {
    "executionInfo": {
     "elapsed": 17,
     "status": "ok",
     "timestamp": 1627678318747,
     "user": {
      "displayName": "Anish Saha",
      "photoUrl": "https://lh3.googleusercontent.com/a-/AOh14GgO-4Lh6fOW1Vb_q2Qe-3O9nUOuU2OINyHo7Hq4OQ=s64",
      "userId": "07643731058417560024"
     },
     "user_tz": 420
    },
    "id": "wcsx5vo4K0MY"
   },
   "outputs": [],
   "source": [
    "result.to_csv(\"./airbnbNYC2021_cleaned.csv\")"
   ]
  },
  {
   "cell_type": "markdown",
   "metadata": {
    "id": "fixGEO0eJ9P6"
   },
   "source": [
    "## Part VI. Checking Integrity Constraints\n",
    "The final step is to run our integrity constraints on the cleaned data to prove that the conditions for the **U1** use case have been successfully fulfilled. As can be seen from the fact that all of the SQL queries in our integrity constraints now return 0 rows, our data cleaning pipeline has functioned as originally intended.\n"
   ]
  },
  {
   "cell_type": "code",
   "execution_count": 33,
   "metadata": {
    "colab": {
     "base_uri": "https://localhost:8080/"
    },
    "executionInfo": {
     "elapsed": 336,
     "status": "ok",
     "timestamp": 1627678319066,
     "user": {
      "displayName": "Anish Saha",
      "photoUrl": "https://lh3.googleusercontent.com/a-/AOh14GgO-4Lh6fOW1Vb_q2Qe-3O9nUOuU2OINyHo7Hq4OQ=s64",
      "userId": "07643731058417560024"
     },
     "user_tz": 420
    },
    "id": "hHlMmKvigV6G",
    "outputId": "e89b335e-ab24-4f7c-a4ef-accf020670e2"
   },
   "outputs": [
    {
     "name": "stderr",
     "output_type": "stream",
     "text": [
      "/Library/Frameworks/Python.framework/Versions/3.8/lib/python3.8/site-packages/pandas/core/generic.py:2605: UserWarning: The spaces in these column names will not be changed. In pandas versions < 0.14, spaces were converted to underscores.\n",
      "  sql.to_sql(\n"
     ]
    }
   ],
   "source": [
    "conn = sqlite3.connect('TestDB.db')\n",
    "c = conn.cursor()\n",
    "read_listings = pd.read_csv(\"./airbnbNYC2021_cleaned.csv\")\n",
    "read_listings.to_sql('LISTINGS', conn, if_exists='replace', index = False)"
   ]
  },
  {
   "cell_type": "code",
   "execution_count": 34,
   "metadata": {},
   "outputs": [
    {
     "data": {
      "text/plain": [
       "0"
      ]
     },
     "execution_count": 34,
     "metadata": {},
     "output_type": "execute_result"
    }
   ],
   "source": [
    "c.execute('''SELECT * FROM Listings WHERE name in (SELECT l1.name FROM Listings l1 JOIN Listings l2 on l1.name = l2.name AND l1.description != l2.description)''')\n",
    "len(c.fetchall())"
   ]
  },
  {
   "cell_type": "code",
   "execution_count": 35,
   "metadata": {
    "colab": {
     "base_uri": "https://localhost:8080/"
    },
    "executionInfo": {
     "elapsed": 71,
     "status": "ok",
     "timestamp": 1627678319069,
     "user": {
      "displayName": "Anish Saha",
      "photoUrl": "https://lh3.googleusercontent.com/a-/AOh14GgO-4Lh6fOW1Vb_q2Qe-3O9nUOuU2OINyHo7Hq4OQ=s64",
      "userId": "07643731058417560024"
     },
     "user_tz": 420
    },
    "id": "DbGdXnxNhF_m",
    "outputId": "af3f7963-edc7-4dbd-985e-b898c5268b53"
   },
   "outputs": [
    {
     "data": {
      "text/plain": [
       "0"
      ]
     },
     "execution_count": 35,
     "metadata": {},
     "output_type": "execute_result"
    }
   ],
   "source": [
    "c.execute('''SELECT * FROM Listings WHERE host_id IN (SELECT l1.host_id FROM Listings l1 JOIN Listings l2 on l1.host_id = l2.host_id AND l1.host_name != l2.host_name)''')\n",
    "len(c.fetchall())"
   ]
  },
  {
   "cell_type": "code",
   "execution_count": 36,
   "metadata": {
    "colab": {
     "base_uri": "https://localhost:8080/"
    },
    "executionInfo": {
     "elapsed": 74,
     "status": "ok",
     "timestamp": 1627678319079,
     "user": {
      "displayName": "Anish Saha",
      "photoUrl": "https://lh3.googleusercontent.com/a-/AOh14GgO-4Lh6fOW1Vb_q2Qe-3O9nUOuU2OINyHo7Hq4OQ=s64",
      "userId": "07643731058417560024"
     },
     "user_tz": 420
    },
    "id": "N8O2sJZ9j_0A",
    "outputId": "1fe5d56f-38f6-453b-a391-d8450dfee2a1"
   },
   "outputs": [
    {
     "data": {
      "text/plain": [
       "0"
      ]
     },
     "execution_count": 36,
     "metadata": {},
     "output_type": "execute_result"
    }
   ],
   "source": [
    "c.execute('''SELECT * FROM Listings WHERE minimum_nights < 0 OR minimum_nights > 6 OR maximum_nights < 6''')\n",
    "len(c.fetchall())"
   ]
  },
  {
   "cell_type": "code",
   "execution_count": 37,
   "metadata": {
    "colab": {
     "base_uri": "https://localhost:8080/"
    },
    "executionInfo": {
     "elapsed": 71,
     "status": "ok",
     "timestamp": 1627678319080,
     "user": {
      "displayName": "Anish Saha",
      "photoUrl": "https://lh3.googleusercontent.com/a-/AOh14GgO-4Lh6fOW1Vb_q2Qe-3O9nUOuU2OINyHo7Hq4OQ=s64",
      "userId": "07643731058417560024"
     },
     "user_tz": 420
    },
    "id": "xTpcb66kkBJj",
    "outputId": "237ab4e8-ee26-47d6-ab8d-7e7dfe09cff3"
   },
   "outputs": [
    {
     "data": {
      "text/plain": [
       "0"
      ]
     },
     "execution_count": 37,
     "metadata": {},
     "output_type": "execute_result"
    }
   ],
   "source": [
    "c.execute('''SELECT bathrooms FROM Listings WHERE bathrooms < 1.5''')\n",
    "len(c.fetchall())"
   ]
  },
  {
   "cell_type": "code",
   "execution_count": 38,
   "metadata": {
    "colab": {
     "base_uri": "https://localhost:8080/"
    },
    "executionInfo": {
     "elapsed": 66,
     "status": "ok",
     "timestamp": 1627678319081,
     "user": {
      "displayName": "Anish Saha",
      "photoUrl": "https://lh3.googleusercontent.com/a-/AOh14GgO-4Lh6fOW1Vb_q2Qe-3O9nUOuU2OINyHo7Hq4OQ=s64",
      "userId": "07643731058417560024"
     },
     "user_tz": 420
    },
    "id": "rwFKOcgxyfoK",
    "outputId": "762269a4-de15-41bf-eee1-7214ca9de2c3"
   },
   "outputs": [
    {
     "data": {
      "text/plain": [
       "0"
      ]
     },
     "execution_count": 38,
     "metadata": {},
     "output_type": "execute_result"
    }
   ],
   "source": [
    "c.execute(''' SELECT * FROM Listings WHERE accommodates < 4 OR beds < 2 OR price > 800.0 ''')\n",
    "len(c.fetchall())"
   ]
  },
  {
   "cell_type": "code",
   "execution_count": 39,
   "metadata": {
    "colab": {
     "base_uri": "https://localhost:8080/"
    },
    "executionInfo": {
     "elapsed": 58,
     "status": "ok",
     "timestamp": 1627678319083,
     "user": {
      "displayName": "Anish Saha",
      "photoUrl": "https://lh3.googleusercontent.com/a-/AOh14GgO-4Lh6fOW1Vb_q2Qe-3O9nUOuU2OINyHo7Hq4OQ=s64",
      "userId": "07643731058417560024"
     },
     "user_tz": 420
    },
    "id": "XCY__cx2kPn1",
    "outputId": "96977ace-2a58-4c84-c7ef-0a43b15548be"
   },
   "outputs": [
    {
     "data": {
      "text/plain": [
       "0"
      ]
     },
     "execution_count": 39,
     "metadata": {},
     "output_type": "execute_result"
    }
   ],
   "source": [
    "c.execute(''' SELECT * FROM Listings WHERE neighborhood != \"Financial District\" AND neighborhood != \"Greenwich Village\" AND neighborhood != \"Soho\" AND neighborhood != \"Lower East Side\" AND neighborhood != \"Chinatown\" AND neighborhood != \"Hamilton\" AND neighborhood = \"Clinton\" AND neighborhood != \"Chelsea\" AND neighborhood != \"Midtown\" AND neighborhood != \"Stuyvesant Town\" AND neighborhood != \"Turtle Bay\" AND neighborhood != \"Upper West Side\" AND neighborhood != \"Inwood\" AND neighborhood != \"Upper East Side\" AND neighborhood != \"Central Harlem\" AND neighborhood != \"East Harlem\" AND neighborhood != \"Morningside Heights\" AND neighborhood != \"Washington Heights\"''') # neighborhoods\n",
    "len(c.fetchall())"
   ]
  },
  {
   "cell_type": "code",
   "execution_count": 40,
   "metadata": {
    "colab": {
     "base_uri": "https://localhost:8080/"
    },
    "executionInfo": {
     "elapsed": 53,
     "status": "ok",
     "timestamp": 1627678319084,
     "user": {
      "displayName": "Anish Saha",
      "photoUrl": "https://lh3.googleusercontent.com/a-/AOh14GgO-4Lh6fOW1Vb_q2Qe-3O9nUOuU2OINyHo7Hq4OQ=s64",
      "userId": "07643731058417560024"
     },
     "user_tz": 420
    },
    "id": "XemslT3ukCtn",
    "outputId": "c14a40f6-16c9-47b2-c355-b2dea084c42a"
   },
   "outputs": [
    {
     "data": {
      "text/plain": [
       "0"
      ]
     },
     "execution_count": 40,
     "metadata": {},
     "output_type": "execute_result"
    }
   ],
   "source": [
    "c.execute('''SELECT * FROM Listings WHERE number_of_reviews <=10 OR review_scores_rating <= 80.0''')\n",
    "len(c.fetchall())"
   ]
  },
  {
   "cell_type": "code",
   "execution_count": 41,
   "metadata": {
    "colab": {
     "base_uri": "https://localhost:8080/"
    },
    "executionInfo": {
     "elapsed": 47,
     "status": "ok",
     "timestamp": 1627678319084,
     "user": {
      "displayName": "Anish Saha",
      "photoUrl": "https://lh3.googleusercontent.com/a-/AOh14GgO-4Lh6fOW1Vb_q2Qe-3O9nUOuU2OINyHo7Hq4OQ=s64",
      "userId": "07643731058417560024"
     },
     "user_tz": 420
    },
    "id": "JXaT_LhlzYLa",
    "outputId": "5af83d4a-bd00-43a2-c9f5-7dbdfe943b6b"
   },
   "outputs": [
    {
     "data": {
      "text/plain": [
       "0"
      ]
     },
     "execution_count": 41,
     "metadata": {},
     "output_type": "execute_result"
    }
   ],
   "source": [
    "c.execute('''SELECT * FROM Listings WHERE room_type != \"Entire home/apt\"''')\n",
    "len(c.fetchall())"
   ]
  },
  {
   "cell_type": "code",
   "execution_count": 42,
   "metadata": {
    "colab": {
     "base_uri": "https://localhost:8080/"
    },
    "executionInfo": {
     "elapsed": 44,
     "status": "ok",
     "timestamp": 1627678319085,
     "user": {
      "displayName": "Anish Saha",
      "photoUrl": "https://lh3.googleusercontent.com/a-/AOh14GgO-4Lh6fOW1Vb_q2Qe-3O9nUOuU2OINyHo7Hq4OQ=s64",
      "userId": "07643731058417560024"
     },
     "user_tz": 420
    },
    "id": "G6z1OwtCkK2b",
    "outputId": "36458e18-8321-481d-b5f0-c96d5523ac21"
   },
   "outputs": [
    {
     "data": {
      "text/plain": [
       "0"
      ]
     },
     "execution_count": 42,
     "metadata": {},
     "output_type": "execute_result"
    }
   ],
   "source": [
    "c.execute('''SELECT * FROM Listings WHERE picture_url = \"\"''')\n",
    "len(c.fetchall())"
   ]
  },
  {
   "cell_type": "code",
   "execution_count": 43,
   "metadata": {
    "colab": {
     "base_uri": "https://localhost:8080/"
    },
    "executionInfo": {
     "elapsed": 39,
     "status": "ok",
     "timestamp": 1627678319086,
     "user": {
      "displayName": "Anish Saha",
      "photoUrl": "https://lh3.googleusercontent.com/a-/AOh14GgO-4Lh6fOW1Vb_q2Qe-3O9nUOuU2OINyHo7Hq4OQ=s64",
      "userId": "07643731058417560024"
     },
     "user_tz": 420
    },
    "id": "vqQXqMh7kVY1",
    "outputId": "1e5930fd-143d-413a-c291-1f82b1920011"
   },
   "outputs": [
    {
     "data": {
      "text/plain": [
       "0"
      ]
     },
     "execution_count": 43,
     "metadata": {},
     "output_type": "execute_result"
    }
   ],
   "source": [
    "c.execute('''SELECT * FROM Listings WHERE host_identity_verified = \"f\"''')\n",
    "len(c.fetchall())"
   ]
  },
  {
   "cell_type": "code",
   "execution_count": 44,
   "metadata": {
    "colab": {
     "base_uri": "https://localhost:8080/"
    },
    "executionInfo": {
     "elapsed": 201,
     "status": "ok",
     "timestamp": 1627678319253,
     "user": {
      "displayName": "Anish Saha",
      "photoUrl": "https://lh3.googleusercontent.com/a-/AOh14GgO-4Lh6fOW1Vb_q2Qe-3O9nUOuU2OINyHo7Hq4OQ=s64",
      "userId": "07643731058417560024"
     },
     "user_tz": 420
    },
    "id": "khj6DmMdkdb0",
    "outputId": "bd51d7b7-3774-40f4-f76e-2af399e51b3f"
   },
   "outputs": [
    {
     "data": {
      "text/plain": [
       "0"
      ]
     },
     "execution_count": 44,
     "metadata": {},
     "output_type": "execute_result"
    }
   ],
   "source": [
    "c.execute('''SELECT * FROM Listings WHERE host_response_time = \"within a day\"''')\n",
    "len(c.fetchall())"
   ]
  },
  {
   "cell_type": "code",
   "execution_count": null,
   "metadata": {
    "executionInfo": {
     "elapsed": 16,
     "status": "ok",
     "timestamp": 1627678319255,
     "user": {
      "displayName": "Anish Saha",
      "photoUrl": "https://lh3.googleusercontent.com/a-/AOh14GgO-4Lh6fOW1Vb_q2Qe-3O9nUOuU2OINyHo7Hq4OQ=s64",
      "userId": "07643731058417560024"
     },
     "user_tz": 420
    },
    "id": "JeT-A9VLklQz"
   },
   "outputs": [],
   "source": []
  }
 ],
 "metadata": {
  "colab": {
   "collapsed_sections": [],
   "name": "airbnbNYC2021-analysis.ipynb",
   "provenance": []
  },
  "kernelspec": {
   "display_name": "Python 3",
   "language": "python",
   "name": "python3"
  },
  "language_info": {
   "codemirror_mode": {
    "name": "ipython",
    "version": 3
   },
   "file_extension": ".py",
   "mimetype": "text/x-python",
   "name": "python",
   "nbconvert_exporter": "python",
   "pygments_lexer": "ipython3",
   "version": "3.8.0"
  }
 },
 "nbformat": 4,
 "nbformat_minor": 1
}
